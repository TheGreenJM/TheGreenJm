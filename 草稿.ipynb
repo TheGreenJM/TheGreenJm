{
 "cells": [
  {
   "cell_type": "code",
   "execution_count": null,
   "metadata": {
    "vscode": {
     "languageId": "csharp"
    }
   },
   "outputs": [],
   "source": [
    "九九乘法表\n",
    "1循环10遍，1-9循环1遍"
   ]
  },
  {
   "cell_type": "code",
   "execution_count": null,
   "metadata": {
    "vscode": {
     "languageId": "csharp"
    }
   },
   "outputs": [],
   "source": [
    "九九乘法表\n",
    "让1*1-9的数依次取消\n",
    "1*2 1*3 2*3 1*4 2*4 3*4 ........"
   ]
  },
  {
   "cell_type": "code",
   "execution_count": null,
   "metadata": {
    "vscode": {
     "languageId": "csharp"
    }
   },
   "outputs": [],
   "source": [
    "冒泡排序\n",
    "从大到小排列或从小到大排列\n",
    "9，8，7，6，5，4，3，2，1，0\n",
    "依次做比较进行排序\n",
    "          9，8，7，6，5，4，3，2，1，0 | 0 1 2 3 4 5 6 7 8 9\n",
    "第一次对比 8,7,6,5,4,9,2,1,0,9 进行了9次交换\n",
    "第二次对比 7,6,5,4,3,2,1,0,8,9 进行了9次交换\n",
    "第三次对比 6,5,4,3,2,1,0,7,8,9 进行了9次交换\n",
    "第四次对比 5,4,3,2,1,0,6,7,8,9 进行了9次交换\n",
    "第五次对比 4,3,2,1,0,5,6,7,8,9 进行了9次交换\n",
    "第六次对比 3,2,1,0,4,5,6,7,8,9 进行了9次交换\n",
    "第七次对比 2,1,0,3,4,5,6,7,8,9 进行了9次交换\n",
    "第八次对比 1,0,2,3,4,5,6,7,8,9 进行了9次交换\n",
    "第九次对比 0,1,2,3,4,5,6,7,8,9 进行了9次交换"
   ]
  },
  {
   "cell_type": "code",
   "execution_count": null,
   "metadata": {
    "vscode": {
     "languageId": "csharp"
    }
   },
   "outputs": [],
   "source": [
    "filed 字段\n",
    "method 方法\n",
    "property 属性\n",
    "set 赋值\n",
    "get 取值\n",
    "****字段是女人 属性是男人"
   ]
  }
 ],
 "metadata": {
  "language_info": {
   "name": "python"
  },
  "orig_nbformat": 4
 },
 "nbformat": 4,
 "nbformat_minor": 2
}
